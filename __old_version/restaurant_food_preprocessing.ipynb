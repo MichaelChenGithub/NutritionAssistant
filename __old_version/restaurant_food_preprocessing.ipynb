{
 "cells": [
  {
   "cell_type": "code",
   "execution_count": 1,
   "metadata": {},
   "outputs": [],
   "source": [
    "import pandas as pd\n",
    "from generatePDF import df2pdf"
   ]
  },
  {
   "cell_type": "code",
   "execution_count": 2,
   "metadata": {},
   "outputs": [
    {
     "name": "stderr",
     "output_type": "stream",
     "text": [
      "C:\\Users\\Michael\\AppData\\Local\\Temp\\ipykernel_36160\\163685256.py:1: DtypeWarning: Columns (7,13,14,18,20,26,27,30) have mixed types. Specify dtype option on import or set low_memory=False.\n",
      "  restaurant_nutrient_df = pd.read_csv('data_source/ms_annual_data_2022.csv')\n"
     ]
    }
   ],
   "source": [
    "restaurant_nutrient_df = pd.read_csv('data_source/ms_annual_data_2022.csv')"
   ]
  },
  {
   "cell_type": "code",
   "execution_count": 3,
   "metadata": {},
   "outputs": [
    {
     "name": "stdout",
     "output_type": "stream",
     "text": [
      "<class 'pandas.core.frame.DataFrame'>\n",
      "RangeIndex: 26238 entries, 0 to 26237\n",
      "Data columns (total 33 columns):\n",
      " #   Column                  Non-Null Count  Dtype  \n",
      "---  ------                  --------------  -----  \n",
      " 0   matched_2021            26238 non-null  int64  \n",
      " 1   new_item_2022           26238 non-null  int64  \n",
      " 2   menu_item_id            26238 non-null  int64  \n",
      " 3   food_category           26238 non-null  object \n",
      " 4   restaurant              26237 non-null  object \n",
      " 5   item_name               26238 non-null  object \n",
      " 6   item_description        26238 non-null  object \n",
      " 7   serving_size            12665 non-null  object \n",
      " 8   serving_size_text       49 non-null     object \n",
      " 9   serving_size_unit       12214 non-null  object \n",
      " 10  serving_size_household  4207 non-null   object \n",
      " 11  calories                25787 non-null  object \n",
      " 12  total_fat               25536 non-null  float64\n",
      " 13  saturated_fat           25418 non-null  object \n",
      " 14  trans_fat               23997 non-null  object \n",
      " 15  cholesterol             25203 non-null  object \n",
      " 16  sodium                  25273 non-null  object \n",
      " 17  carbohydrates           25274 non-null  object \n",
      " 18  dietary_fiber           24808 non-null  object \n",
      " 19  sugar                   25195 non-null  object \n",
      " 20  protein                 25222 non-null  object \n",
      " 21  potassium               1787 non-null   float64\n",
      " 22  notes                   40 non-null     object \n",
      " 23  calories_text           194 non-null    object \n",
      " 24  total_fat_text          8 non-null      object \n",
      " 25  saturated_fat_text      8 non-null      object \n",
      " 26  trans_fat_text          6 non-null      object \n",
      " 27  cholesterol_text        6 non-null      object \n",
      " 28  sodium_text             8 non-null      object \n",
      " 29  carbohydrates_text      8 non-null      object \n",
      " 30  dietary_fiber_text      6 non-null      object \n",
      " 31  sugar_text              8 non-null      object \n",
      " 32  protein_text            8 non-null      object \n",
      "dtypes: float64(2), int64(3), object(28)\n",
      "memory usage: 6.6+ MB\n"
     ]
    }
   ],
   "source": [
    "restaurant_nutrient_df.info()"
   ]
  },
  {
   "cell_type": "code",
   "execution_count": 4,
   "metadata": {},
   "outputs": [],
   "source": [
    "restaurant_nutrient_df = restaurant_nutrient_df[['food_category', 'restaurant', 'item_name', 'calories', 'carbohydrates', 'protein', 'total_fat']]"
   ]
  },
  {
   "cell_type": "code",
   "execution_count": 5,
   "metadata": {},
   "outputs": [
    {
     "name": "stdout",
     "output_type": "stream",
     "text": [
      "<class 'pandas.core.frame.DataFrame'>\n",
      "RangeIndex: 26238 entries, 0 to 26237\n",
      "Data columns (total 7 columns):\n",
      " #   Column         Non-Null Count  Dtype  \n",
      "---  ------         --------------  -----  \n",
      " 0   food_category  26238 non-null  object \n",
      " 1   restaurant     26237 non-null  object \n",
      " 2   item_name      26238 non-null  object \n",
      " 3   calories       25787 non-null  object \n",
      " 4   carbohydrates  25274 non-null  object \n",
      " 5   protein        25222 non-null  object \n",
      " 6   total_fat      25536 non-null  float64\n",
      "dtypes: float64(1), object(6)\n",
      "memory usage: 1.4+ MB\n"
     ]
    }
   ],
   "source": [
    "restaurant_nutrient_df.info()"
   ]
  },
  {
   "cell_type": "code",
   "execution_count": 6,
   "metadata": {},
   "outputs": [],
   "source": [
    "restaurant_nutrient_df = restaurant_nutrient_df.dropna(how='any')"
   ]
  },
  {
   "cell_type": "code",
   "execution_count": 7,
   "metadata": {},
   "outputs": [
    {
     "data": {
      "text/html": [
       "<div>\n",
       "<style scoped>\n",
       "    .dataframe tbody tr th:only-of-type {\n",
       "        vertical-align: middle;\n",
       "    }\n",
       "\n",
       "    .dataframe tbody tr th {\n",
       "        vertical-align: top;\n",
       "    }\n",
       "\n",
       "    .dataframe thead th {\n",
       "        text-align: right;\n",
       "    }\n",
       "</style>\n",
       "<table border=\"1\" class=\"dataframe\">\n",
       "  <thead>\n",
       "    <tr style=\"text-align: right;\">\n",
       "      <th></th>\n",
       "      <th>food_category</th>\n",
       "      <th>restaurant</th>\n",
       "      <th>item_name</th>\n",
       "      <th>calories</th>\n",
       "      <th>carbohydrates</th>\n",
       "      <th>protein</th>\n",
       "      <th>total_fat</th>\n",
       "    </tr>\n",
       "  </thead>\n",
       "  <tbody>\n",
       "    <tr>\n",
       "      <th>0</th>\n",
       "      <td>Soup</td>\n",
       "      <td>Applebee's</td>\n",
       "      <td>French Onion Soup</td>\n",
       "      <td>370</td>\n",
       "      <td>26</td>\n",
       "      <td>16</td>\n",
       "      <td>22.0</td>\n",
       "    </tr>\n",
       "    <tr>\n",
       "      <th>1</th>\n",
       "      <td>Soup</td>\n",
       "      <td>Applebee's</td>\n",
       "      <td>Tomato Basil Soup</td>\n",
       "      <td>220</td>\n",
       "      <td>22</td>\n",
       "      <td>5</td>\n",
       "      <td>12.0</td>\n",
       "    </tr>\n",
       "    <tr>\n",
       "      <th>2</th>\n",
       "      <td>Soup</td>\n",
       "      <td>Applebee's</td>\n",
       "      <td>Chicken Tortilla Soup</td>\n",
       "      <td>280</td>\n",
       "      <td>26</td>\n",
       "      <td>11</td>\n",
       "      <td>15.0</td>\n",
       "    </tr>\n",
       "    <tr>\n",
       "      <th>3</th>\n",
       "      <td>Salads</td>\n",
       "      <td>Applebee's</td>\n",
       "      <td>House Salad</td>\n",
       "      <td>130</td>\n",
       "      <td>14</td>\n",
       "      <td>6</td>\n",
       "      <td>7.0</td>\n",
       "    </tr>\n",
       "    <tr>\n",
       "      <th>4</th>\n",
       "      <td>Salads</td>\n",
       "      <td>Applebee's</td>\n",
       "      <td>Oriental Chicken Salad</td>\n",
       "      <td>1560</td>\n",
       "      <td>120</td>\n",
       "      <td>40</td>\n",
       "      <td>103.0</td>\n",
       "    </tr>\n",
       "    <tr>\n",
       "      <th>...</th>\n",
       "      <td>...</td>\n",
       "      <td>...</td>\n",
       "      <td>...</td>\n",
       "      <td>...</td>\n",
       "      <td>...</td>\n",
       "      <td>...</td>\n",
       "      <td>...</td>\n",
       "    </tr>\n",
       "    <tr>\n",
       "      <th>26232</th>\n",
       "      <td>Entrees</td>\n",
       "      <td>Zaxby's</td>\n",
       "      <td>20 Boneless Wings, Buffalo Garlic Blaze</td>\n",
       "      <td>1560</td>\n",
       "      <td>95</td>\n",
       "      <td>94.0</td>\n",
       "      <td>90.0</td>\n",
       "    </tr>\n",
       "    <tr>\n",
       "      <th>26233</th>\n",
       "      <td>Appetizers &amp; Sides</td>\n",
       "      <td>Zaxby's</td>\n",
       "      <td>10 Traditional Wings, Buffalo Garlic Blaze</td>\n",
       "      <td>890</td>\n",
       "      <td>9</td>\n",
       "      <td>77.0</td>\n",
       "      <td>60.0</td>\n",
       "    </tr>\n",
       "    <tr>\n",
       "      <th>26234</th>\n",
       "      <td>Appetizers &amp; Sides</td>\n",
       "      <td>Zaxby's</td>\n",
       "      <td>10 Chicken Fingers, Buffalo Garlic Blaze</td>\n",
       "      <td>1150</td>\n",
       "      <td>48</td>\n",
       "      <td>100.0</td>\n",
       "      <td>62.0</td>\n",
       "    </tr>\n",
       "    <tr>\n",
       "      <th>26235</th>\n",
       "      <td>Appetizers &amp; Sides</td>\n",
       "      <td>Zaxby's</td>\n",
       "      <td>10 Boneless Wings, Tongue Torch</td>\n",
       "      <td>680</td>\n",
       "      <td>49</td>\n",
       "      <td>47.0</td>\n",
       "      <td>33.0</td>\n",
       "    </tr>\n",
       "    <tr>\n",
       "      <th>26236</th>\n",
       "      <td>Appetizers &amp; Sides</td>\n",
       "      <td>Zaxby's</td>\n",
       "      <td>10 Boneless Wings, Buffalo Garlic Blaze</td>\n",
       "      <td>780</td>\n",
       "      <td>47</td>\n",
       "      <td>47.0</td>\n",
       "      <td>45.0</td>\n",
       "    </tr>\n",
       "  </tbody>\n",
       "</table>\n",
       "<p>24882 rows × 7 columns</p>\n",
       "</div>"
      ],
      "text/plain": [
       "            food_category  restaurant  \\\n",
       "0                    Soup  Applebee's   \n",
       "1                    Soup  Applebee's   \n",
       "2                    Soup  Applebee's   \n",
       "3                  Salads  Applebee's   \n",
       "4                  Salads  Applebee's   \n",
       "...                   ...         ...   \n",
       "26232             Entrees     Zaxby's   \n",
       "26233  Appetizers & Sides     Zaxby's   \n",
       "26234  Appetizers & Sides     Zaxby's   \n",
       "26235  Appetizers & Sides     Zaxby's   \n",
       "26236  Appetizers & Sides     Zaxby's   \n",
       "\n",
       "                                        item_name calories carbohydrates  \\\n",
       "0                               French Onion Soup      370            26   \n",
       "1                               Tomato Basil Soup      220            22   \n",
       "2                           Chicken Tortilla Soup      280            26   \n",
       "3                                     House Salad      130            14   \n",
       "4                          Oriental Chicken Salad     1560           120   \n",
       "...                                           ...      ...           ...   \n",
       "26232     20 Boneless Wings, Buffalo Garlic Blaze     1560            95   \n",
       "26233  10 Traditional Wings, Buffalo Garlic Blaze      890             9   \n",
       "26234    10 Chicken Fingers, Buffalo Garlic Blaze     1150            48   \n",
       "26235             10 Boneless Wings, Tongue Torch      680            49   \n",
       "26236     10 Boneless Wings, Buffalo Garlic Blaze      780            47   \n",
       "\n",
       "      protein  total_fat  \n",
       "0          16       22.0  \n",
       "1           5       12.0  \n",
       "2          11       15.0  \n",
       "3           6        7.0  \n",
       "4          40      103.0  \n",
       "...       ...        ...  \n",
       "26232    94.0       90.0  \n",
       "26233    77.0       60.0  \n",
       "26234   100.0       62.0  \n",
       "26235    47.0       33.0  \n",
       "26236    47.0       45.0  \n",
       "\n",
       "[24882 rows x 7 columns]"
      ]
     },
     "execution_count": 7,
     "metadata": {},
     "output_type": "execute_result"
    }
   ],
   "source": [
    "restaurant_nutrient_df"
   ]
  },
  {
   "cell_type": "code",
   "execution_count": 8,
   "metadata": {},
   "outputs": [
    {
     "name": "stdout",
     "output_type": "stream",
     "text": [
      "PDF file saved as gpt_assistant_input/restaurant_food_nutrition.pdf\n"
     ]
    }
   ],
   "source": [
    "# 創建 PDF 文件\n",
    "pdf_filename = \"gpt_assistant_input/restaurant_food_nutrition.pdf\"\n",
    "df2pdf(restaurant_nutrient_df, pdf_filename)"
   ]
  }
 ],
 "metadata": {
  "kernelspec": {
   "display_name": "nutrition_assistant",
   "language": "python",
   "name": "python3"
  },
  "language_info": {
   "codemirror_mode": {
    "name": "ipython",
    "version": 3
   },
   "file_extension": ".py",
   "mimetype": "text/x-python",
   "name": "python",
   "nbconvert_exporter": "python",
   "pygments_lexer": "ipython3",
   "version": "3.10.13"
  }
 },
 "nbformat": 4,
 "nbformat_minor": 2
}
