{
 "cells": [
  {
   "cell_type": "code",
   "execution_count": 41,
   "metadata": {},
   "outputs": [],
   "source": [
    "import pandas as pd\n",
    "import matplotlib.pyplot as plt\n",
    "from reportlab.lib import colors\n",
    "from reportlab.lib.pagesizes import letter\n",
    "from reportlab.platypus import SimpleDocTemplate, Table, TableStyle"
   ]
  },
  {
   "cell_type": "code",
   "execution_count": 42,
   "metadata": {},
   "outputs": [
    {
     "name": "stderr",
     "output_type": "stream",
     "text": [
      "C:\\Users\\Michael\\AppData\\Local\\Temp\\ipykernel_44080\\2253104221.py:4: DtypeWarning: Columns (9,10) have mixed types. Specify dtype option on import or set low_memory=False.\n",
      "  foundation_food_nutrient_df = pd.read_csv(f'data_source/{foundation_folder}/food_nutrient.csv')\n"
     ]
    }
   ],
   "source": [
    "foundation_folder = \"FoodData_Central_foundation_food_csv_2023-10-26\"\n",
    "\n",
    "foundation_food_df = pd.read_csv(f'data_source/{foundation_folder}/food.csv')\n",
    "foundation_food_nutrient_df = pd.read_csv(f'data_source/{foundation_folder}/food_nutrient.csv')\n",
    "foundation_nutrient_df = pd.read_csv(f'data_source/{foundation_folder}/nutrient.csv')"
   ]
  },
  {
   "cell_type": "code",
   "execution_count": 43,
   "metadata": {},
   "outputs": [
    {
     "name": "stdout",
     "output_type": "stream",
     "text": [
      "<class 'pandas.core.frame.DataFrame'>\n",
      "RangeIndex: 60432 entries, 0 to 60431\n",
      "Data columns (total 5 columns):\n",
      " #   Column            Non-Null Count  Dtype  \n",
      "---  ------            --------------  -----  \n",
      " 0   fdc_id            60432 non-null  int64  \n",
      " 1   data_type         60432 non-null  object \n",
      " 2   description       60424 non-null  object \n",
      " 3   food_category_id  58732 non-null  float64\n",
      " 4   publication_date  60432 non-null  object \n",
      "dtypes: float64(1), int64(1), object(3)\n",
      "memory usage: 2.3+ MB\n"
     ]
    }
   ],
   "source": [
    "foundation_food_df.info()\n",
    "# remove description is null data\n",
    "foundation_food_df = foundation_food_df[foundation_food_df.description.notna()]"
   ]
  },
  {
   "cell_type": "code",
   "execution_count": 44,
   "metadata": {},
   "outputs": [
    {
     "name": "stdout",
     "output_type": "stream",
     "text": [
      "<class 'pandas.core.frame.DataFrame'>\n",
      "RangeIndex: 140824 entries, 0 to 140823\n",
      "Data columns (total 11 columns):\n",
      " #   Column             Non-Null Count   Dtype  \n",
      "---  ------             --------------   -----  \n",
      " 0   id                 140824 non-null  int64  \n",
      " 1   fdc_id             140824 non-null  int64  \n",
      " 2   nutrient_id        140824 non-null  int64  \n",
      " 3   amount             140804 non-null  float64\n",
      " 4   data_points        137625 non-null  float64\n",
      " 5   derivation_id      140681 non-null  float64\n",
      " 6   min                13825 non-null   float64\n",
      " 7   max                13825 non-null   float64\n",
      " 8   median             14427 non-null   float64\n",
      " 9   footnote           3 non-null       object \n",
      " 10  min_year_acquired  28689 non-null   object \n",
      "dtypes: float64(6), int64(3), object(2)\n",
      "memory usage: 11.8+ MB\n"
     ]
    }
   ],
   "source": [
    "foundation_food_nutrient_df.info()\n",
    "# remove amount is null data\n",
    "foundation_food_nutrient_df = foundation_food_nutrient_df[foundation_food_nutrient_df.amount.notna()]"
   ]
  },
  {
   "cell_type": "code",
   "execution_count": 45,
   "metadata": {},
   "outputs": [
    {
     "name": "stdout",
     "output_type": "stream",
     "text": [
      "<class 'pandas.core.frame.DataFrame'>\n",
      "RangeIndex: 477 entries, 0 to 476\n",
      "Data columns (total 5 columns):\n",
      " #   Column        Non-Null Count  Dtype  \n",
      "---  ------        --------------  -----  \n",
      " 0   id            477 non-null    int64  \n",
      " 1   name          477 non-null    object \n",
      " 2   unit_name     477 non-null    object \n",
      " 3   nutrient_nbr  465 non-null    float64\n",
      " 4   rank          466 non-null    float64\n",
      "dtypes: float64(2), int64(1), object(2)\n",
      "memory usage: 18.8+ KB\n"
     ]
    }
   ],
   "source": [
    "foundation_nutrient_df.info()\n",
    "# only keep the target nutrition I want to track\n",
    "tracking_nutrition = {\"Protein\", \"Total lipid (fat)\", \"Carbohydrate, by difference\"}\n",
    "foundation_nutrient_df = foundation_nutrient_df[foundation_nutrient_df.name.isin(tracking_nutrition)].rename(columns={'id': 'nutrient_id'})"
   ]
  },
  {
   "cell_type": "code",
   "execution_count": 46,
   "metadata": {},
   "outputs": [],
   "source": [
    "foundation_result_df = foundation_food_nutrient_df.merge(foundation_nutrient_df, on=\"nutrient_id\", how=\"left\")\n",
    "foundation_result_df = foundation_result_df[foundation_result_df.name.notna()]\n",
    "foundation_result_df = foundation_result_df.groupby(['fdc_id', 'name'])['amount'].sum().unstack().reset_index(\"fdc_id\")"
   ]
  },
  {
   "cell_type": "code",
   "execution_count": 47,
   "metadata": {},
   "outputs": [],
   "source": [
    "foundation_result_df = foundation_result_df.merge(foundation_food_df, on=\"fdc_id\", how=\"inner\")\n",
    "foundation_result_df = foundation_result_df[[\"fdc_id\", \"description\", \"Carbohydrate, by difference\", \"Protein\", \"Total lipid (fat)\"]]"
   ]
  },
  {
   "cell_type": "code",
   "execution_count": 48,
   "metadata": {},
   "outputs": [],
   "source": [
    "foundation_result_df = foundation_result_df.dropna(how='any')"
   ]
  },
  {
   "cell_type": "code",
   "execution_count": 49,
   "metadata": {},
   "outputs": [],
   "source": [
    "foundation_result_df = foundation_result_df.groupby(\"description\")[['Carbohydrate, by difference', \"Protein\", \"Total lipid (fat)\"]].mean().reset_index()"
   ]
  },
  {
   "cell_type": "code",
   "execution_count": 50,
   "metadata": {},
   "outputs": [],
   "source": [
    "# fill 0 if any nutrition value < 0 (base on observation from https://fdc.nal.usda.gov/fdc-app.html#/)\n",
    "for i in tracking_nutrition:\n",
    "    foundation_result_df[i] = foundation_result_df[i].mask(foundation_result_df[i] < 0, 0)\n",
    "    foundation_result_df[i] = foundation_result_df[i].round(2)"
   ]
  },
  {
   "cell_type": "code",
   "execution_count": 51,
   "metadata": {},
   "outputs": [
    {
     "name": "stdout",
     "output_type": "stream",
     "text": [
      "PDF file saved as gpt_assistant_input/foundation_food_nutrition.pdf\n"
     ]
    }
   ],
   "source": [
    "# 創建 PDF 文件\n",
    "pdf_filename = \"gpt_assistant_input/foundation_food_nutrition.pdf\"\n",
    "pdf = SimpleDocTemplate(pdf_filename, pagesize=letter)\n",
    "data = [foundation_result_df.columns[:,].values.astype(str)] + foundation_result_df.values.tolist()\n",
    "\n",
    "# 創建表格\n",
    "t = Table(data)\n",
    "\n",
    "# 添加表格樣式\n",
    "t.setStyle(TableStyle([('BACKGROUND', (0, 0), (-1, 0), colors.grey),\n",
    "                       ('TEXTCOLOR', (0, 0), (-1, 0), colors.whitesmoke),\n",
    "                       ('ALIGN', (0, 0), (-1, -1), 'CENTER'),\n",
    "                       ('FONTNAME', (0, 0), (-1, 0), 'Helvetica-Bold'),\n",
    "                       ('BOTTOMPADDING', (0, 0), (-1, 0), 2),\n",
    "                       ('BACKGROUND', (0, 1), (-1, -1), colors.beige),\n",
    "                       ('GRID', (0, 0), (-1, -1), 1, colors.black),\n",
    "                       ('FONTSIZE', (0, 0), (-1, -1), 6)]))\n",
    "\n",
    "# 將表格添加到 PDF 文件\n",
    "pdf.build([t])\n",
    "\n",
    "print(f\"PDF file saved as {pdf_filename}\")\n"
   ]
  },
  {
   "cell_type": "code",
   "execution_count": null,
   "metadata": {},
   "outputs": [],
   "source": []
  }
 ],
 "metadata": {
  "kernelspec": {
   "display_name": "nutrition_assistant",
   "language": "python",
   "name": "python3"
  },
  "language_info": {
   "codemirror_mode": {
    "name": "ipython",
    "version": 3
   },
   "file_extension": ".py",
   "mimetype": "text/x-python",
   "name": "python",
   "nbconvert_exporter": "python",
   "pygments_lexer": "ipython3",
   "version": "3.10.13"
  }
 },
 "nbformat": 4,
 "nbformat_minor": 2
}
