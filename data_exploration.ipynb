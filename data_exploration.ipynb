{
 "cells": [
  {
   "cell_type": "code",
   "execution_count": 128,
   "metadata": {},
   "outputs": [],
   "source": [
    "import pandas as pd"
   ]
  },
  {
   "cell_type": "code",
   "execution_count": 129,
   "metadata": {},
   "outputs": [
    {
     "name": "stderr",
     "output_type": "stream",
     "text": [
      "C:\\Users\\Michael\\AppData\\Local\\Temp\\ipykernel_26552\\2253104221.py:4: DtypeWarning: Columns (9,10) have mixed types. Specify dtype option on import or set low_memory=False.\n",
      "  foundation_food_nutrient_df = pd.read_csv(f'data_source/{foundation_folder}/food_nutrient.csv')\n"
     ]
    }
   ],
   "source": [
    "foundation_folder = \"FoodData_Central_foundation_food_csv_2023-10-26\"\n",
    "\n",
    "foundation_food_df = pd.read_csv(f'data_source/{foundation_folder}/food.csv')\n",
    "foundation_food_nutrient_df = pd.read_csv(f'data_source/{foundation_folder}/food_nutrient.csv')\n",
    "foundation_nutrient_df = pd.read_csv(f'data_source/{foundation_folder}/nutrient.csv')"
   ]
  },
  {
   "cell_type": "code",
   "execution_count": 130,
   "metadata": {},
   "outputs": [
    {
     "name": "stdout",
     "output_type": "stream",
     "text": [
      "<class 'pandas.core.frame.DataFrame'>\n",
      "RangeIndex: 60432 entries, 0 to 60431\n",
      "Data columns (total 5 columns):\n",
      " #   Column            Non-Null Count  Dtype  \n",
      "---  ------            --------------  -----  \n",
      " 0   fdc_id            60432 non-null  int64  \n",
      " 1   data_type         60432 non-null  object \n",
      " 2   description       60424 non-null  object \n",
      " 3   food_category_id  58732 non-null  float64\n",
      " 4   publication_date  60432 non-null  object \n",
      "dtypes: float64(1), int64(1), object(3)\n",
      "memory usage: 2.3+ MB\n"
     ]
    }
   ],
   "source": [
    "foundation_food_df.info()\n",
    "# remove description is null data\n",
    "foundation_food_df = foundation_food_df[foundation_food_df.description.notna()]"
   ]
  },
  {
   "cell_type": "code",
   "execution_count": 131,
   "metadata": {},
   "outputs": [
    {
     "name": "stdout",
     "output_type": "stream",
     "text": [
      "<class 'pandas.core.frame.DataFrame'>\n",
      "RangeIndex: 140824 entries, 0 to 140823\n",
      "Data columns (total 11 columns):\n",
      " #   Column             Non-Null Count   Dtype  \n",
      "---  ------             --------------   -----  \n",
      " 0   id                 140824 non-null  int64  \n",
      " 1   fdc_id             140824 non-null  int64  \n",
      " 2   nutrient_id        140824 non-null  int64  \n",
      " 3   amount             140804 non-null  float64\n",
      " 4   data_points        137625 non-null  float64\n",
      " 5   derivation_id      140681 non-null  float64\n",
      " 6   min                13825 non-null   float64\n",
      " 7   max                13825 non-null   float64\n",
      " 8   median             14427 non-null   float64\n",
      " 9   footnote           3 non-null       object \n",
      " 10  min_year_acquired  28689 non-null   object \n",
      "dtypes: float64(6), int64(3), object(2)\n",
      "memory usage: 11.8+ MB\n"
     ]
    }
   ],
   "source": [
    "foundation_food_nutrient_df.info()\n",
    "# remove amount is null data\n",
    "foundation_food_nutrient_df = foundation_food_nutrient_df[foundation_food_nutrient_df.amount.notna()]"
   ]
  },
  {
   "cell_type": "code",
   "execution_count": 132,
   "metadata": {},
   "outputs": [
    {
     "name": "stdout",
     "output_type": "stream",
     "text": [
      "<class 'pandas.core.frame.DataFrame'>\n",
      "RangeIndex: 477 entries, 0 to 476\n",
      "Data columns (total 5 columns):\n",
      " #   Column        Non-Null Count  Dtype  \n",
      "---  ------        --------------  -----  \n",
      " 0   id            477 non-null    int64  \n",
      " 1   name          477 non-null    object \n",
      " 2   unit_name     477 non-null    object \n",
      " 3   nutrient_nbr  465 non-null    float64\n",
      " 4   rank          466 non-null    float64\n",
      "dtypes: float64(2), int64(1), object(2)\n",
      "memory usage: 18.8+ KB\n"
     ]
    }
   ],
   "source": [
    "foundation_nutrient_df.info()\n",
    "# only keep the target nutrition I want to track\n",
    "tracking_nutrition = {\"Protein\", \"Total lipid (fat)\", \"Carbohydrate, by difference\"}\n",
    "foundation_nutrient_df = foundation_nutrient_df[foundation_nutrient_df.name.isin(tracking_nutrition)].rename(columns={'id': 'nutrient_id'})"
   ]
  },
  {
   "cell_type": "code",
   "execution_count": 133,
   "metadata": {},
   "outputs": [],
   "source": [
    "foundation_result_df = foundation_food_nutrient_df.merge(foundation_nutrient_df, on=\"nutrient_id\", how=\"left\")\n",
    "foundation_result_df = foundation_result_df[foundation_result_df.name.notna()]\n",
    "foundation_result_df = foundation_result_df.groupby(['fdc_id', 'name'])['amount'].sum().unstack().reset_index(\"fdc_id\")"
   ]
  },
  {
   "cell_type": "code",
   "execution_count": 134,
   "metadata": {},
   "outputs": [],
   "source": [
    "foundation_result_df = foundation_result_df.merge(foundation_food_df, on=\"fdc_id\", how=\"inner\")\n",
    "foundation_result_df = foundation_result_df[[\"fdc_id\", \"description\", \"Carbohydrate, by difference\", \"Protein\", \"Total lipid (fat)\"]]"
   ]
  },
  {
   "cell_type": "code",
   "execution_count": 137,
   "metadata": {},
   "outputs": [],
   "source": [
    "foundation_result_df = foundation_result_df.dropna(how='any')"
   ]
  },
  {
   "cell_type": "code",
   "execution_count": 145,
   "metadata": {},
   "outputs": [],
   "source": [
    "foundation_result_df = foundation_result_df.groupby(\"description\")[['Carbohydrate, by difference', \"Protein\", \"Total lipid (fat)\"]].mean().reset_index()"
   ]
  },
  {
   "cell_type": "code",
   "execution_count": 148,
   "metadata": {},
   "outputs": [
    {
     "data": {
      "text/html": [
       "<div>\n",
       "<style scoped>\n",
       "    .dataframe tbody tr th:only-of-type {\n",
       "        vertical-align: middle;\n",
       "    }\n",
       "\n",
       "    .dataframe tbody tr th {\n",
       "        vertical-align: top;\n",
       "    }\n",
       "\n",
       "    .dataframe thead th {\n",
       "        text-align: right;\n",
       "    }\n",
       "</style>\n",
       "<table border=\"1\" class=\"dataframe\">\n",
       "  <thead>\n",
       "    <tr style=\"text-align: right;\">\n",
       "      <th></th>\n",
       "      <th>description</th>\n",
       "      <th>Carbohydrate, by difference</th>\n",
       "      <th>Protein</th>\n",
       "      <th>Total lipid (fat)</th>\n",
       "    </tr>\n",
       "  </thead>\n",
       "  <tbody>\n",
       "    <tr>\n",
       "      <th>0</th>\n",
       "      <td>Almond butter, creamy</td>\n",
       "      <td>21.236660</td>\n",
       "      <td>20.787340</td>\n",
       "      <td>53.04000</td>\n",
       "    </tr>\n",
       "    <tr>\n",
       "      <th>1</th>\n",
       "      <td>Almond milk, unsweetened, plain, refrigerated</td>\n",
       "      <td>0.670750</td>\n",
       "      <td>0.656250</td>\n",
       "      <td>1.55800</td>\n",
       "    </tr>\n",
       "    <tr>\n",
       "      <th>2</th>\n",
       "      <td>Almond milk, unsweetened, plain, shelf stable</td>\n",
       "      <td>0.337112</td>\n",
       "      <td>0.554688</td>\n",
       "      <td>1.22100</td>\n",
       "    </tr>\n",
       "    <tr>\n",
       "      <th>3</th>\n",
       "      <td>Apple juice, with added vitamin C, from concen...</td>\n",
       "      <td>11.363962</td>\n",
       "      <td>0.085938</td>\n",
       "      <td>0.28630</td>\n",
       "    </tr>\n",
       "    <tr>\n",
       "      <th>4</th>\n",
       "      <td>Apples, fuji, with skin, raw</td>\n",
       "      <td>15.675581</td>\n",
       "      <td>0.149219</td>\n",
       "      <td>0.16125</td>\n",
       "    </tr>\n",
       "    <tr>\n",
       "      <th>...</th>\n",
       "      <td>...</td>\n",
       "      <td>...</td>\n",
       "      <td>...</td>\n",
       "      <td>...</td>\n",
       "    </tr>\n",
       "    <tr>\n",
       "      <th>236</th>\n",
       "      <td>Yogurt, Greek, plain, nonfat</td>\n",
       "      <td>3.640000</td>\n",
       "      <td>10.300000</td>\n",
       "      <td>0.37000</td>\n",
       "    </tr>\n",
       "    <tr>\n",
       "      <th>237</th>\n",
       "      <td>Yogurt, Greek, plain, whole milk</td>\n",
       "      <td>4.754020</td>\n",
       "      <td>8.778880</td>\n",
       "      <td>4.39400</td>\n",
       "    </tr>\n",
       "    <tr>\n",
       "      <th>238</th>\n",
       "      <td>Yogurt, Greek, strawberry, nonfat</td>\n",
       "      <td>12.200000</td>\n",
       "      <td>8.060000</td>\n",
       "      <td>0.15000</td>\n",
       "    </tr>\n",
       "    <tr>\n",
       "      <th>239</th>\n",
       "      <td>Yogurt, plain, nonfat</td>\n",
       "      <td>8.076750</td>\n",
       "      <td>4.226750</td>\n",
       "      <td>0.08750</td>\n",
       "    </tr>\n",
       "    <tr>\n",
       "      <th>240</th>\n",
       "      <td>Yogurt, plain, whole milk</td>\n",
       "      <td>5.574928</td>\n",
       "      <td>3.824172</td>\n",
       "      <td>4.48400</td>\n",
       "    </tr>\n",
       "  </tbody>\n",
       "</table>\n",
       "<p>241 rows × 4 columns</p>\n",
       "</div>"
      ],
      "text/plain": [
       "                                           description  \\\n",
       "0                                Almond butter, creamy   \n",
       "1        Almond milk, unsweetened, plain, refrigerated   \n",
       "2        Almond milk, unsweetened, plain, shelf stable   \n",
       "3    Apple juice, with added vitamin C, from concen...   \n",
       "4                         Apples, fuji, with skin, raw   \n",
       "..                                                 ...   \n",
       "236                       Yogurt, Greek, plain, nonfat   \n",
       "237                   Yogurt, Greek, plain, whole milk   \n",
       "238                  Yogurt, Greek, strawberry, nonfat   \n",
       "239                              Yogurt, plain, nonfat   \n",
       "240                          Yogurt, plain, whole milk   \n",
       "\n",
       "     Carbohydrate, by difference    Protein  Total lipid (fat)  \n",
       "0                      21.236660  20.787340           53.04000  \n",
       "1                       0.670750   0.656250            1.55800  \n",
       "2                       0.337112   0.554688            1.22100  \n",
       "3                      11.363962   0.085938            0.28630  \n",
       "4                      15.675581   0.149219            0.16125  \n",
       "..                           ...        ...                ...  \n",
       "236                     3.640000  10.300000            0.37000  \n",
       "237                     4.754020   8.778880            4.39400  \n",
       "238                    12.200000   8.060000            0.15000  \n",
       "239                     8.076750   4.226750            0.08750  \n",
       "240                     5.574928   3.824172            4.48400  \n",
       "\n",
       "[241 rows x 4 columns]"
      ]
     },
     "execution_count": 148,
     "metadata": {},
     "output_type": "execute_result"
    }
   ],
   "source": [
    "foundation_result_df"
   ]
  },
  {
   "cell_type": "code",
   "execution_count": null,
   "metadata": {},
   "outputs": [],
   "source": []
  }
 ],
 "metadata": {
  "kernelspec": {
   "display_name": "nutrition_assistant",
   "language": "python",
   "name": "python3"
  },
  "language_info": {
   "codemirror_mode": {
    "name": "ipython",
    "version": 3
   },
   "file_extension": ".py",
   "mimetype": "text/x-python",
   "name": "python",
   "nbconvert_exporter": "python",
   "pygments_lexer": "ipython3",
   "version": "3.10.13"
  }
 },
 "nbformat": 4,
 "nbformat_minor": 2
}
