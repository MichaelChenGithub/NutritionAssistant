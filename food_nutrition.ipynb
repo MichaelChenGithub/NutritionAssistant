{
 "cells": [
  {
   "cell_type": "code",
   "execution_count": 2,
   "metadata": {},
   "outputs": [
    {
     "name": "stderr",
     "output_type": "stream",
     "text": [
      "C:\\Users\\Michael\\AppData\\Local\\Temp\\ipykernel_32616\\4080736814.py:1: DeprecationWarning: \n",
      "Pyarrow will become a required dependency of pandas in the next major release of pandas (pandas 3.0),\n",
      "(to allow more performant data types, such as the Arrow string type, and better interoperability with other libraries)\n",
      "but was not found to be installed on your system.\n",
      "If this would cause problems for you,\n",
      "please provide us feedback at https://github.com/pandas-dev/pandas/issues/54466\n",
      "        \n",
      "  import pandas as pd\n"
     ]
    }
   ],
   "source": [
    "import pandas as pd"
   ]
  },
  {
   "cell_type": "code",
   "execution_count": 16,
   "metadata": {},
   "outputs": [],
   "source": [
    "data = pd.read_csv(\"source_data/食品營養成分資料庫2022版(UPDATE2).csv\", encoding='big5', encoding_errors= 'ignore')"
   ]
  },
  {
   "cell_type": "code",
   "execution_count": 27,
   "metadata": {},
   "outputs": [
    {
     "data": {
      "text/plain": [
       "整合編號              A0100101\n",
       "食品分類                   穀物類\n",
       "樣品名稱                   大麥仁\n",
       "內容物描述         生,已去殼,混合均勻磨碎\n",
       "俗名            小薏仁,洋薏仁,珍珠薏仁\n",
       "廢棄率(%)                 0.0\n",
       "熱量(kcal)             365.0\n",
       "修正熱量(kcal)           347.0\n",
       "水分(g)                 11.7\n",
       "粗蛋白(g)                 8.6\n",
       "粗脂肪(g)                 1.6\n",
       "飽和脂肪(g)                0.5\n",
       "灰分(g)                  1.0\n",
       "總碳水化合物(g)             77.1\n",
       "Name: 0, dtype: object"
      ]
     },
     "execution_count": 27,
     "metadata": {},
     "output_type": "execute_result"
    }
   ],
   "source": [
    "data.iloc[0,0:14]"
   ]
  },
  {
   "cell_type": "code",
   "execution_count": 29,
   "metadata": {},
   "outputs": [],
   "source": [
    "target_data = data[[\"整合編號\", \"食品分類\", \"樣品名稱\", \"熱量(kcal)\", \"粗蛋白(g)\", \"粗脂肪(g)\", \"總碳水化合物(g)\"]]"
   ]
  },
  {
   "cell_type": "code",
   "execution_count": 32,
   "metadata": {},
   "outputs": [
    {
     "name": "stdout",
     "output_type": "stream",
     "text": [
      "粗蛋白(g) need fill\n",
      "粗脂肪(g) need fill\n"
     ]
    }
   ],
   "source": [
    "need_fill_cols = []\n",
    "for i in target_data.columns:\n",
    "    if target_data[i].isna().sum() != 0:\n",
    "        print(i, \"need fill\")\n",
    "        need_fill_cols.append(i)"
   ]
  },
  {
   "cell_type": "code",
   "execution_count": 33,
   "metadata": {},
   "outputs": [
    {
     "name": "stderr",
     "output_type": "stream",
     "text": [
      "C:\\Users\\Michael\\AppData\\Local\\Temp\\ipykernel_32616\\1965904571.py:2: SettingWithCopyWarning: \n",
      "A value is trying to be set on a copy of a slice from a DataFrame.\n",
      "Try using .loc[row_indexer,col_indexer] = value instead\n",
      "\n",
      "See the caveats in the documentation: https://pandas.pydata.org/pandas-docs/stable/user_guide/indexing.html#returning-a-view-versus-a-copy\n",
      "  target_data[i] = target_data[i].fillna(0)\n"
     ]
    }
   ],
   "source": [
    "for i in need_fill_cols:\n",
    "    target_data[i] = target_data[i].fillna(0)"
   ]
  },
  {
   "cell_type": "code",
   "execution_count": 37,
   "metadata": {},
   "outputs": [],
   "source": [
    "target_data.to_csv(\"source_data/clean_food_nutrition.csv\", index=False)"
   ]
  },
  {
   "cell_type": "code",
   "execution_count": null,
   "metadata": {},
   "outputs": [],
   "source": []
  }
 ],
 "metadata": {
  "kernelspec": {
   "display_name": "nutrition_assistant",
   "language": "python",
   "name": "python3"
  },
  "language_info": {
   "codemirror_mode": {
    "name": "ipython",
    "version": 3
   },
   "file_extension": ".py",
   "mimetype": "text/x-python",
   "name": "python",
   "nbconvert_exporter": "python",
   "pygments_lexer": "ipython3",
   "version": "3.10.13"
  }
 },
 "nbformat": 4,
 "nbformat_minor": 2
}
