{
 "cells": [
  {
   "cell_type": "code",
   "execution_count": 19,
   "metadata": {},
   "outputs": [],
   "source": [
    "from openai import OpenAI\n",
    "from sk import OPENAI_API_KEY\n",
    "import time\n",
    "client = OpenAI(api_key=OPENAI_API_KEY)\n",
    "\n"
   ]
  },
  {
   "cell_type": "code",
   "execution_count": 20,
   "metadata": {},
   "outputs": [],
   "source": [
    "# cannot create properly, create assistant manualy now.\n",
    "# Few-shot Prompting can be added\n",
    "intstructions_string = \"\"\"\n",
    "    ShenNutritionGPT can provide dietary recommendations \\\n",
    "    based on your nutritional needs through your food preferences. \\\n",
    "    In addition to recommending basic ingredients, it can also suggest \\\n",
    "    suitable options for dining out and prepare recipes for you, \\\n",
    "    making it much easier for you to control your diet.\n",
    "    \n",
    "    Here are examples of ShawGPT responding to viewer comments.\n",
    "\n",
    "    Viewer comment: Do you have any food suggestions? I have to eat 20g of protein this meal.\n",
    "    ShenNutritionGPT: Great to hear, glad it was helpful :) -ShenNutritionGPT\n",
    "\n",
    "    Viewer comment: Epic, very useful for my BCI class\n",
    "    ShenNutritionGPT: Thanks, glad to hear! -ShenNutritionGPT\n",
    "\n",
    "    Viewer comment: Honestly the most straightforward explanation I've ever watched. Super excellent work Shaw. Thank you. It's so rare to find good communicators like you!\n",
    "    ShenNutritionGPT: Thanks, glad it was clear -ShenNutritionGPT\n",
    "    \"\"\"\n",
    "\n",
    "# file = client.files.create(\n",
    "#   file=open(\"gpt_assistant_input/foundation_food_nutrition.pdf\", \"rb\"),\n",
    "#   purpose=\"assistants\"\n",
    "# )\n",
    "\n",
    "# assistant = client.beta.assistants.create(\n",
    "#     name=\"ShenNutritionGPT\",\n",
    "#     description=\"Food Nutrition GPT for Diet Recommendation\",\n",
    "#     instructions=intstructions_string,\n",
    "#     tools=[{\"type\": \"retrieval\"}],\n",
    "#     file_ids=[file.id],\n",
    "#     model=\"gpt-3.5-turbo-0125\"\n",
    "# )\n",
    "assistant = client.beta.assistants.retrieve(\"asst_Z4knqwOe9olvisDtzZGP0Fxo\")"
   ]
  },
  {
   "cell_type": "code",
   "execution_count": 21,
   "metadata": {},
   "outputs": [],
   "source": [
    "# create thread (i.e. object that handles conversation between user and assistant)\n",
    "thread = client.beta.threads.create()\n",
    "\n",
    "# add a user message to the thread\n",
    "message = client.beta.threads.messages.create(\n",
    "    thread_id=thread.id,\n",
    "    role=\"user\",\n",
    "    content=\"I need 20g of protein. Do you have any food suggestions?\"\n",
    ")\n",
    "\n",
    "# send message to assistant to generate a response\n",
    "run = client.beta.threads.runs.create(\n",
    "  thread_id=thread.id,\n",
    "  assistant_id=assistant.id,\n",
    ")\n",
    "\n",
    "# Waits for the run to be completed. \n",
    "while True:\n",
    "    run_status = client.beta.threads.runs.retrieve(thread_id=thread.id, \n",
    "                                                   run_id=run.id)\n",
    "    if run_status.status == \"completed\":\n",
    "        break\n",
    "    elif run_status.status == \"failed\":\n",
    "        print(\"Run failed:\", run_status.last_error)\n",
    "        break\n",
    "    time.sleep(2)  # wait for 2 seconds before checking again"
   ]
  },
  {
   "cell_type": "code",
   "execution_count": 22,
   "metadata": {},
   "outputs": [
    {
     "name": "stdout",
     "output_type": "stream",
     "text": [
      "Number of messages: 2\n",
      "\n",
      "user: I need 20g of protein. Do you have any food suggestions?\n",
      "\n",
      "assistant: To meet your requirement of 20g of protein, you can consider the following options from the list of food items provided in the document:\n",
      "\n",
      "1. Chicken breast boneless skinless raw: Provides 19.17g of protein\n",
      "2. Beans black canned sodium added drained and rinsed: Provides 6.91g of protein\n",
      "3. Beans cannellini canned sodium added drained and rinsed: Provides 7.41g of protein\n",
      "\n",
      "These are some of the options that can help you reach your desired protein intake. Feel free to combine them or choose one based on your preferences.\n"
     ]
    }
   ],
   "source": [
    "# Step 5: Parse the Assistant's Response to Print the Results\n",
    "messages = client.beta.threads.messages.list(\n",
    "    thread_id=thread.id\n",
    ")\n",
    "\n",
    "# Prints the messages with the latest message at the bottom\n",
    "number_of_messages = len(messages.data)\n",
    "print( f'Number of messages: {number_of_messages}')\n",
    "\n",
    "for message in reversed(messages.data):\n",
    "    role = message.role  \n",
    "    for content in message.content:\n",
    "        if content.type == 'text':\n",
    "            response = content.text.value \n",
    "            print(f'\\n{role}: {response}')"
   ]
  },
  {
   "cell_type": "code",
   "execution_count": null,
   "metadata": {},
   "outputs": [],
   "source": []
  }
 ],
 "metadata": {
  "kernelspec": {
   "display_name": "nutrition_assistant",
   "language": "python",
   "name": "python3"
  },
  "language_info": {
   "codemirror_mode": {
    "name": "ipython",
    "version": 3
   },
   "file_extension": ".py",
   "mimetype": "text/x-python",
   "name": "python",
   "nbconvert_exporter": "python",
   "pygments_lexer": "ipython3",
   "version": "3.10.13"
  }
 },
 "nbformat": 4,
 "nbformat_minor": 2
}
