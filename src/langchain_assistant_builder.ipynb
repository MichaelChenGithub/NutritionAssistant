{
 "cells": [
  {
   "cell_type": "code",
   "execution_count": 1,
   "metadata": {},
   "outputs": [],
   "source": [
    "from langchain.agents.openai_assistant import OpenAIAssistantRunnable\n",
    "from langchain.tools import DuckDuckGoSearchRun"
   ]
  },
  {
   "cell_type": "code",
   "execution_count": 3,
   "metadata": {},
   "outputs": [],
   "source": [
    "from langchain.pydantic_v1 import BaseModel, Field\n",
    "from langchain.tools import BaseTool, StructuredTool, tool"
   ]
  },
  {
   "cell_type": "code",
   "execution_count": 2,
   "metadata": {},
   "outputs": [],
   "source": [
    "from assistant_tool_recipe import * \n",
    "from assistant_tool_nutrition import * "
   ]
  },
  {
   "cell_type": "code",
   "execution_count": 10,
   "metadata": {},
   "outputs": [],
   "source": [
    "class RecipeInput(BaseModel):\n",
    "    query: str = Field(description=\"food name\")\n",
    "\n",
    "recipe_tool = StructuredTool.from_function(\n",
    "    func=get_recipe,\n",
    "    name=\"get_recipe\",\n",
    "    description=\"Fetch recipes and cusine nutrition\",\n",
    "    args_schema=RecipeInput\n",
    ")\n",
    "\n",
    "class NutritionInput(BaseModel):\n",
    "    query: str = Field(description=\"serving size and food name\")\n",
    "\n",
    "nutrition_tool = StructuredTool.from_function(\n",
    "    func=get_nutrition_with_nlp,\n",
    "    name=\"get_nutrition_with_nlp\",\n",
    "    description=\"Fetch Food nutrition\",\n",
    "    args_schema=NutritionInput\n",
    ")\n",
    "\n",
    "class RestaurantInput(BaseModel):\n",
    "    query: str = Field(description=\"general food name\")\n",
    "\n",
    "restaurant_food_tool = StructuredTool.from_function(\n",
    "    func=find_restaurant_food,\n",
    "    name=\"find_restaurant_food\",\n",
    "    description=\"Find restaurant food options\",\n",
    "    args_schema=RestaurantInput\n",
    ")\n",
    "\n",
    "tools = [DuckDuckGoSearchRun(), recipe_tool, nutrition_tool, restaurant_food_tool]"
   ]
  },
  {
   "cell_type": "code",
   "execution_count": 13,
   "metadata": {},
   "outputs": [],
   "source": []
  },
  {
   "cell_type": "code",
   "execution_count": 14,
   "metadata": {},
   "outputs": [],
   "source": [
    "agent = OpenAIAssistantRunnable.create_assistant(\n",
    "    name=\"Nutri Buddy GPT4 Langchain Test \",\n",
    "    instructions=\"As an exceptionally skilled nutritionist, you possess the ability to offer dietary advice, restaurant meal suggestions, and recipe recommendations. When answering questions, please prioritize utilizing your knowledge base to provide responses. Only resort to the provided methods under the following circumstances: when queried about specific recipes requiring detailed steps or ingredient lists, use the 'get_recipe' function; if asked about specific restaurant food, particularly when recommendations based on geographical location or restaurant type are needed, employ the 'find_restaurant_food' function; if the question pertains to specific food nutrition information necessitating a detailed nutritional analysis, utilize the 'get_nutrition_with_nlp' function. Please explicitly state whether these methods were utilized in each response, and endeavor to provide useful information even when these methods are not employed.\",\n",
    "    tools=tools,\n",
    "    model=\"gpt-4-1106-preview\",\n",
    "    as_agent=True,\n",
    ")"
   ]
  },
  {
   "cell_type": "code",
   "execution_count": 15,
   "metadata": {},
   "outputs": [
    {
     "data": {
      "text/plain": [
       "[DuckDuckGoSearchRun(),\n",
       " StructuredTool(name='get_recipe', description='get_recipe(query) - Fetch recipes and cusine nutrition', args_schema=<class '__main__.RecipeInput'>, func=<function get_recipe at 0x0000027D23426E60>),\n",
       " StructuredTool(name='get_nutrition_with_nlp', description='get_nutrition_with_nlp(query) - Fetch Food nutrition', args_schema=<class '__main__.NutritionInput'>, func=<function get_nutrition_with_nlp at 0x0000027D23426EF0>),\n",
       " StructuredTool(name='find_restaurant_food', description='find_restaurant_food(query) - Find restaurant food options', args_schema=<class '__main__.RestaurantInput'>, func=<function find_restaurant_food at 0x0000027D23426F80>)]"
      ]
     },
     "execution_count": 15,
     "metadata": {},
     "output_type": "execute_result"
    }
   ],
   "source": [
    "tools"
   ]
  },
  {
   "cell_type": "code",
   "execution_count": 16,
   "metadata": {},
   "outputs": [],
   "source": [
    "assistant_id = \"asst_kjXxune3YNpmyZ6dMbij9W1m\"\n",
    "\n",
    "agent = OpenAIAssistantRunnable(assistant_id=assistant_id, as_agent=True)"
   ]
  },
  {
   "cell_type": "code",
   "execution_count": 17,
   "metadata": {},
   "outputs": [
    {
     "data": {
      "text/plain": [
       "{'content': 'Any food recommendation?',\n",
       " 'output': \"Certainly! Food recommendations can vary greatly depending on several factors such as dietary preferences, health goals, time of day, and more. Here are a few recommendations across different categories:\\n\\n1. **Breakfast:**\\n   - Oatmeal with fresh fruits and a drizzle of honey or a handful of nuts for added crunch and protein.\\n   - Greek yogurt parfait with granola and berries for a protein-packed start to the day.\\n\\n2. **Lunch:**\\n   - Quinoa salad with mixed vegetables, chickpeas, and a lemon-tahini dressing for a balance of protein, fiber, and healthy fats.\\n   - Grilled chicken or tofu wrap with lots of fresh veggies and a whole grain tortilla for a satisfying and nutrient-dense option.\\n\\n3. **Dinner:**\\n   - Baked salmon with steamed broccoli and quinoa for a meal rich in omega-3 fatty acids and antioxidants.\\n   - Stir-fried vegetables with tofu or lean beef and brown rice for a balanced plate with protein, fiber, and complex carbs.\\n\\n4. **Snacks:**\\n   - Hummus with carrot and cucumber sticks for a nutrient-dense snack high in protein and fiber.\\n   - A handful of almonds or mixed nuts for a satisfying snack that offers healthy fats and some protein.\\n\\n5. **Dessert:**\\n   - Fruit salad with a sprinkle of cinnamon or a dollop of whipped coconut cream for a naturally sweet treat.\\n   - Dark chocolate (70% or higher) for a rich, satisfying dessert that's also high in antioxidants.\\n\\nRemember to drink plenty of water throughout the day and adjust portion sizes and food choices to fit your specific dietary needs and goals. If you have specific dietary restrictions or preferences, or if you're looking for something more tailored, feel free to provide more details!\",\n",
       " 'thread_id': 'thread_Xow8EbAoUh1O3AfvUYqrbpQh',\n",
       " 'run_id': 'run_kUkc6tpHznj9gK64wieSXbog'}"
      ]
     },
     "execution_count": 17,
     "metadata": {},
     "output_type": "execute_result"
    }
   ],
   "source": [
    "from langchain.agents import AgentExecutor\n",
    "\n",
    "agent_executor = AgentExecutor(agent=agent, tools=tools)\n",
    "agent_executor.invoke({\"content\": \"Any food recommendation?\"})"
   ]
  },
  {
   "cell_type": "code",
   "execution_count": null,
   "metadata": {},
   "outputs": [],
   "source": [
    "from langchain.agents import AgentExecutor\n",
    "\n",
    "agent_executor = AgentExecutor(agent=agent, tools=tools)\n",
    "agent_executor.invoke({\"content\": \"Any food recommendation?\"})"
   ]
  }
 ],
 "metadata": {
  "kernelspec": {
   "display_name": "nutrition_assistant",
   "language": "python",
   "name": "python3"
  },
  "language_info": {
   "codemirror_mode": {
    "name": "ipython",
    "version": 3
   },
   "file_extension": ".py",
   "mimetype": "text/x-python",
   "name": "python",
   "nbconvert_exporter": "python",
   "pygments_lexer": "ipython3",
   "version": "3.10.13"
  }
 },
 "nbformat": 4,
 "nbformat_minor": 2
}
